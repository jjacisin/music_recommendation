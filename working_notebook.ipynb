{
 "cells": [
  {
   "cell_type": "code",
   "execution_count": 1,
   "metadata": {},
   "outputs": [],
   "source": [
    "import matplotlib.pyplot as plt\n",
    "import pandas as pd"
   ]
  },
  {
   "cell_type": "markdown",
   "metadata": {},
   "source": [
    "### NB: Using test dataset for initial review due to processing power limitations on 1M song dataset. Will perform same analysis on training data (1M user/song/play count pairings) "
   ]
  },
  {
   "cell_type": "markdown",
   "metadata": {},
   "source": [
    "# Dataset Review"
   ]
  },
  {
   "cell_type": "code",
   "execution_count": 2,
   "metadata": {},
   "outputs": [],
   "source": [
    "file_name_users = 'kaggle_songs.txt'\n",
    "file_name_songs = 'kaggle_users.txt'\n",
    "file_name_taste = 'taste_profile_song_to_tracks.txt'\n",
    "file_name_eval = 'kaggle_visible_evaluation_triplets.txt'"
   ]
  },
  {
   "cell_type": "code",
   "execution_count": 3,
   "metadata": {
    "scrolled": true
   },
   "outputs": [],
   "source": [
    "f = open(file_name_eval)\n",
    "lines = f.readlines()"
   ]
  },
  {
   "cell_type": "markdown",
   "metadata": {},
   "source": [
    "## Number of users"
   ]
  },
  {
   "cell_type": "code",
   "execution_count": 4,
   "metadata": {},
   "outputs": [
    {
     "data": {
      "text/plain": [
       "386213"
      ]
     },
     "execution_count": 4,
     "metadata": {},
     "output_type": "execute_result"
    }
   ],
   "source": [
    "f = open(file_name_users)\n",
    "lines_2 = f.readlines()\n",
    "len(lines_2)"
   ]
  },
  {
   "cell_type": "markdown",
   "metadata": {},
   "source": [
    "## Number of Songs"
   ]
  },
  {
   "cell_type": "code",
   "execution_count": 5,
   "metadata": {},
   "outputs": [
    {
     "data": {
      "text/plain": [
       "110000"
      ]
     },
     "execution_count": 5,
     "metadata": {},
     "output_type": "execute_result"
    }
   ],
   "source": [
    "f = open(file_name_songs)\n",
    "lines_3 = f.readlines()\n",
    "len(lines_3)"
   ]
  },
  {
   "cell_type": "markdown",
   "metadata": {},
   "source": [
    "## Song/Track Conversion File"
   ]
  },
  {
   "cell_type": "code",
   "execution_count": 6,
   "metadata": {},
   "outputs": [
    {
     "data": {
      "text/plain": [
       "386213"
      ]
     },
     "execution_count": 6,
     "metadata": {},
     "output_type": "execute_result"
    }
   ],
   "source": [
    "f = open(file_name_taste)\n",
    "lines_4 = f.readlines()\n",
    "len(lines_4)"
   ]
  },
  {
   "cell_type": "markdown",
   "metadata": {},
   "source": [
    "# Review Eval File\n",
    "\n",
    "## Calculate Track Count"
   ]
  },
  {
   "cell_type": "code",
   "execution_count": 7,
   "metadata": {},
   "outputs": [],
   "source": [
    "def song_parser(data):\n",
    "    local_dict = dict()\n",
    "    for line in data:\n",
    "        _, song, _ = line.strip().split('\\t')\n",
    "        if song in local_dict:\n",
    "            local_dict[song] += 1\n",
    "        else:\n",
    "            local_dict[song] = 1\n",
    "    return local_dict"
   ]
  },
  {
   "cell_type": "code",
   "execution_count": 8,
   "metadata": {},
   "outputs": [],
   "source": [
    "song_to_count = song_parser(lines)"
   ]
  },
  {
   "cell_type": "markdown",
   "metadata": {},
   "source": [
    "## Number of unique songs"
   ]
  },
  {
   "cell_type": "code",
   "execution_count": 9,
   "metadata": {},
   "outputs": [
    {
     "data": {
      "text/plain": [
       "163206"
      ]
     },
     "execution_count": 9,
     "metadata": {},
     "output_type": "execute_result"
    }
   ],
   "source": [
    "len(song_to_count)"
   ]
  },
  {
   "cell_type": "markdown",
   "metadata": {},
   "source": [
    "## Create User Index Dataframe"
   ]
  },
  {
   "cell_type": "code",
   "execution_count": 10,
   "metadata": {},
   "outputs": [],
   "source": [
    "col_names = ['user_id','song_id','play_count']"
   ]
  },
  {
   "cell_type": "code",
   "execution_count": 11,
   "metadata": {
    "scrolled": true
   },
   "outputs": [
    {
     "data": {
      "text/html": [
       "<div>\n",
       "<style scoped>\n",
       "    .dataframe tbody tr th:only-of-type {\n",
       "        vertical-align: middle;\n",
       "    }\n",
       "\n",
       "    .dataframe tbody tr th {\n",
       "        vertical-align: top;\n",
       "    }\n",
       "\n",
       "    .dataframe thead th {\n",
       "        text-align: right;\n",
       "    }\n",
       "</style>\n",
       "<table border=\"1\" class=\"dataframe\">\n",
       "  <thead>\n",
       "    <tr style=\"text-align: right;\">\n",
       "      <th></th>\n",
       "      <th>user_id</th>\n",
       "      <th>song_id</th>\n",
       "      <th>play_count</th>\n",
       "    </tr>\n",
       "  </thead>\n",
       "  <tbody>\n",
       "    <tr>\n",
       "      <th>0</th>\n",
       "      <td>fd50c4007b68a3737fe052d5a4f78ce8aa117f3d</td>\n",
       "      <td>SOBONKR12A58A7A7E0</td>\n",
       "      <td>1</td>\n",
       "    </tr>\n",
       "    <tr>\n",
       "      <th>1</th>\n",
       "      <td>fd50c4007b68a3737fe052d5a4f78ce8aa117f3d</td>\n",
       "      <td>SOEGIYH12A6D4FC0E3</td>\n",
       "      <td>1</td>\n",
       "    </tr>\n",
       "    <tr>\n",
       "      <th>2</th>\n",
       "      <td>fd50c4007b68a3737fe052d5a4f78ce8aa117f3d</td>\n",
       "      <td>SOFLJQZ12A6D4FADA6</td>\n",
       "      <td>1</td>\n",
       "    </tr>\n",
       "    <tr>\n",
       "      <th>3</th>\n",
       "      <td>fd50c4007b68a3737fe052d5a4f78ce8aa117f3d</td>\n",
       "      <td>SOHTKMO12AB01843B0</td>\n",
       "      <td>1</td>\n",
       "    </tr>\n",
       "    <tr>\n",
       "      <th>4</th>\n",
       "      <td>fd50c4007b68a3737fe052d5a4f78ce8aa117f3d</td>\n",
       "      <td>SODQZCY12A6D4F9D11</td>\n",
       "      <td>1</td>\n",
       "    </tr>\n",
       "  </tbody>\n",
       "</table>\n",
       "</div>"
      ],
      "text/plain": [
       "                                    user_id             song_id  play_count\n",
       "0  fd50c4007b68a3737fe052d5a4f78ce8aa117f3d  SOBONKR12A58A7A7E0           1\n",
       "1  fd50c4007b68a3737fe052d5a4f78ce8aa117f3d  SOEGIYH12A6D4FC0E3           1\n",
       "2  fd50c4007b68a3737fe052d5a4f78ce8aa117f3d  SOFLJQZ12A6D4FADA6           1\n",
       "3  fd50c4007b68a3737fe052d5a4f78ce8aa117f3d  SOHTKMO12AB01843B0           1\n",
       "4  fd50c4007b68a3737fe052d5a4f78ce8aa117f3d  SODQZCY12A6D4F9D11           1"
      ]
     },
     "execution_count": 11,
     "metadata": {},
     "output_type": "execute_result"
    }
   ],
   "source": [
    "df_raw = pd.read_csv(file_name_eval,sep='\\t',header=None,names=col_names)\n",
    "df_raw.head()"
   ]
  },
  {
   "cell_type": "code",
   "execution_count": 12,
   "metadata": {},
   "outputs": [
    {
     "data": {
      "text/plain": [
       "110000"
      ]
     },
     "execution_count": 12,
     "metadata": {},
     "output_type": "execute_result"
    }
   ],
   "source": [
    "# Number of unique users\n",
    "len(df_raw.user_id.unique())"
   ]
  },
  {
   "cell_type": "code",
   "execution_count": 13,
   "metadata": {},
   "outputs": [],
   "source": [
    "# Count of all songs listened by users"
   ]
  },
  {
   "cell_type": "code",
   "execution_count": 14,
   "metadata": {
    "scrolled": true
   },
   "outputs": [
    {
     "data": {
      "text/plain": [
       "7d90be8dfdbde170f036ce8a4b915440137cb11c    53\n",
       "016a24e91a72c159a5048ab1b9b2ba5ce761b526    52\n",
       "0f8308935bcbb9a1e04ebb7c4d41c037e5f23b90    52\n",
       "2e424b28bff1f62a2dae22a918f09f9c30c06d1b    52\n",
       "d30e18323f15426c3cdc8585252ed34459916f51    52\n",
       "03ad93fdb01506ce205f4708decf8e4b1ae90fff    52\n",
       "316110734d8da7478cc33237458814f770a9eb7a    51\n",
       "e08848e92427e9ef8add59a1264c484e1078d5a5    51\n",
       "e99ef008f893efd071a7a77be6f1e8d23b962278    51\n",
       "992fea335363e87217e1b052fd7380b3fd7e35b4    51\n",
       "9769ebffc543fa42b58daf6f52f8816abf5f408e    51\n",
       "7e27789eae69bc946c51833c0b833a49c58ed9ed    51\n",
       "9b0f827c8bad0cf089b0d778307e1b390f463730    50\n",
       "c77574174ffe7118d90ac95c6671ff840858806a    50\n",
       "1fb619ced83fb4f92d4098709d7331b30e5e691c    50\n",
       "b7bc5c9ea762079424d014c1b4e05e1d65d68861    50\n",
       "ca885bed5d391ccc0fda84e8eb4441e005f68bcd    50\n",
       "7db2077964762a3889dd4d61444a8ba254b6365d    50\n",
       "b976263ea6b444c431759549a75b3650c66183a6    50\n",
       "ad4b2717e89766b66b96fe52a38736116e315874    50\n",
       "7a1da2cfab87398a137441a85aee84793a376302    49\n",
       "1ef62350e380cd4400d1e9e502c283537ab0427b    49\n",
       "fd94f121ddfa8521f2348cb9863f0a7b475b7690    49\n",
       "6a41b6a2e27eff73509684bdfa13271b571e2e64    49\n",
       "cdf02034d8a63dd8f4b4c22a5e7b225a37bdb844    49\n",
       "5b3b7cd00e95e2680fac770b7e18c070bf02e527    48\n",
       "ecd8e3aaf27af93873acff818f531f5c5d037dcb    48\n",
       "2cc9422e11d2c7e3b0ab5aca3fa22308995ff15d    48\n",
       "5dd9ca919c054bfa1deb7bb6945e85c153803d4c    48\n",
       "dfadfaa39598cf760125439346d903ea0467e7fa    48\n",
       "                                            ..\n",
       "8595931f0216735f9962b551120f70b2a2c3a346     5\n",
       "263eaad588ede520f69fb3fded6f9d0a0c960f66     5\n",
       "7b6c02f0704e934f99dbeb9b586431ce295c0397     5\n",
       "15d2158b65683e618e0d29b5abaf94ead706b6e8     5\n",
       "260623b23088e04f8e5fcdebe17a46651d99fd8a     5\n",
       "b9a4026e9a5f4f39b4b3603f3e7a547a0a867937     5\n",
       "d3f7d39ca74730a579fc71c79081d88387e320f2     5\n",
       "cb19ba1fc318272b0663693eaca93ab217b58461     5\n",
       "54cd4ec1ea537f80649f3749490a6053d193e743     5\n",
       "a42412a54fed82e8341d2edaa1f9001362acf898     5\n",
       "a75d1288a1e342d48c805bc91d92a4a628707b48     5\n",
       "b39b7fe128696dd46338099bd6e4b7f6c93c14c1     5\n",
       "60d5a2f20a8f69ff23b17c5e259c3de16a4829b7     5\n",
       "4394dd96115d4d67b70f31c86ec15a915d2d3063     5\n",
       "66463fe94f84b34f2467968ba6c27e12e91ead19     5\n",
       "8b899cdc5ce8360b4c3bf203d213e9d77ce76e6e     5\n",
       "60171c4510a54f58f4f96c6ac4106a4a26187994     5\n",
       "0c807b2f1729ed3d9061962ba85aadcc6241eab7     5\n",
       "2858ae9a96e888019a263b90eb5fa048c3a8f0fc     5\n",
       "166f1c4db8e9d4f3a22b862925b2105105d3c3be     5\n",
       "9e0c7d324fc6b376c10e9eeffb5260eb2d6b1615     5\n",
       "39af6df2f9df235b52e5f75f1d5932c359448ffe     5\n",
       "ef6d63871f8ff07cb1d2c44688090a9b748762c3     5\n",
       "4107d65f00ac6105b6fbf7a880fd536a4064de94     5\n",
       "623a3681279ea5a5ddbb8cac26bf319bf02f6b72     5\n",
       "b895079e1ead5d0239aaf260b6426e7189e645d7     5\n",
       "11aede089e46ba2d6a3793b0ac607c93c1011ba6     5\n",
       "c1ea7712a921a10e31247e819845641bd86facba     5\n",
       "3a89488723b014b31f8eef4da5ca1dea4daf0c21     5\n",
       "ff3e0e82e1e71077fa6575ccfd964a313fa47a75     5\n",
       "Name: user_id, Length: 110000, dtype: int64"
      ]
     },
     "execution_count": 14,
     "metadata": {},
     "output_type": "execute_result"
    }
   ],
   "source": [
    "# Count of unique songs listened by users\n",
    "df_raw.user_id.value_counts()"
   ]
  },
  {
   "cell_type": "markdown",
   "metadata": {},
   "source": [
    "## play_count review"
   ]
  },
  {
   "cell_type": "code",
   "execution_count": 25,
   "metadata": {},
   "outputs": [
    {
     "data": {
      "text/html": [
       "<div>\n",
       "<style scoped>\n",
       "    .dataframe tbody tr th:only-of-type {\n",
       "        vertical-align: middle;\n",
       "    }\n",
       "\n",
       "    .dataframe tbody tr th {\n",
       "        vertical-align: top;\n",
       "    }\n",
       "\n",
       "    .dataframe thead th {\n",
       "        text-align: right;\n",
       "    }\n",
       "</style>\n",
       "<table border=\"1\" class=\"dataframe\">\n",
       "  <thead>\n",
       "    <tr style=\"text-align: right;\">\n",
       "      <th></th>\n",
       "      <th>play_count</th>\n",
       "    </tr>\n",
       "    <tr>\n",
       "      <th>user_id</th>\n",
       "      <th></th>\n",
       "    </tr>\n",
       "  </thead>\n",
       "  <tbody>\n",
       "    <tr>\n",
       "      <th>090b841eaf56d343a26625c2c6d08b823927bc4f</th>\n",
       "      <td>1305</td>\n",
       "    </tr>\n",
       "    <tr>\n",
       "      <th>938c2632d43eeadb8a83a7cc254d014f9cea6afe</th>\n",
       "      <td>1267</td>\n",
       "    </tr>\n",
       "    <tr>\n",
       "      <th>1c5aa998482a40abfd020759e7d757eb6c510e72</th>\n",
       "      <td>1200</td>\n",
       "    </tr>\n",
       "    <tr>\n",
       "      <th>c6150292374fb1dad89982367b3245dd5004c718</th>\n",
       "      <td>1192</td>\n",
       "    </tr>\n",
       "    <tr>\n",
       "      <th>5a9375e46a7e9b869058c7bc0e820e00d77f3e0b</th>\n",
       "      <td>1184</td>\n",
       "    </tr>\n",
       "  </tbody>\n",
       "</table>\n",
       "</div>"
      ],
      "text/plain": [
       "                                          play_count\n",
       "user_id                                             \n",
       "090b841eaf56d343a26625c2c6d08b823927bc4f        1305\n",
       "938c2632d43eeadb8a83a7cc254d014f9cea6afe        1267\n",
       "1c5aa998482a40abfd020759e7d757eb6c510e72        1200\n",
       "c6150292374fb1dad89982367b3245dd5004c718        1192\n",
       "5a9375e46a7e9b869058c7bc0e820e00d77f3e0b        1184"
      ]
     },
     "execution_count": 25,
     "metadata": {},
     "output_type": "execute_result"
    }
   ],
   "source": [
    "user_by_play_count = df_raw.drop('song_id',axis=1).groupby(['user_id']).sum()\n",
    "user_by_play_count.sort_values('play_count',inplace=True,ascending=False)\n",
    "user_by_play_count.head()"
   ]
  },
  {
   "cell_type": "code",
   "execution_count": 32,
   "metadata": {},
   "outputs": [
    {
     "data": {
      "text/html": [
       "<div>\n",
       "<style scoped>\n",
       "    .dataframe tbody tr th:only-of-type {\n",
       "        vertical-align: middle;\n",
       "    }\n",
       "\n",
       "    .dataframe tbody tr th {\n",
       "        vertical-align: top;\n",
       "    }\n",
       "\n",
       "    .dataframe thead th {\n",
       "        text-align: right;\n",
       "    }\n",
       "</style>\n",
       "<table border=\"1\" class=\"dataframe\">\n",
       "  <thead>\n",
       "    <tr style=\"text-align: right;\">\n",
       "      <th></th>\n",
       "      <th>play_count</th>\n",
       "    </tr>\n",
       "  </thead>\n",
       "  <tbody>\n",
       "    <tr>\n",
       "      <th>count</th>\n",
       "      <td>110000.000000</td>\n",
       "    </tr>\n",
       "    <tr>\n",
       "      <th>mean</th>\n",
       "      <td>42.039455</td>\n",
       "    </tr>\n",
       "    <tr>\n",
       "      <th>std</th>\n",
       "      <td>53.315747</td>\n",
       "    </tr>\n",
       "    <tr>\n",
       "      <th>min</th>\n",
       "      <td>5.000000</td>\n",
       "    </tr>\n",
       "    <tr>\n",
       "      <th>25%</th>\n",
       "      <td>13.000000</td>\n",
       "    </tr>\n",
       "    <tr>\n",
       "      <th>50%</th>\n",
       "      <td>25.000000</td>\n",
       "    </tr>\n",
       "    <tr>\n",
       "      <th>75%</th>\n",
       "      <td>50.000000</td>\n",
       "    </tr>\n",
       "    <tr>\n",
       "      <th>max</th>\n",
       "      <td>1305.000000</td>\n",
       "    </tr>\n",
       "  </tbody>\n",
       "</table>\n",
       "</div>"
      ],
      "text/plain": [
       "          play_count\n",
       "count  110000.000000\n",
       "mean       42.039455\n",
       "std        53.315747\n",
       "min         5.000000\n",
       "25%        13.000000\n",
       "50%        25.000000\n",
       "75%        50.000000\n",
       "max      1305.000000"
      ]
     },
     "execution_count": 32,
     "metadata": {},
     "output_type": "execute_result"
    }
   ],
   "source": [
    "# Summary Stats for user play counts; 50% of users listen between \n",
    "user_by_play_count.describe()"
   ]
  },
  {
   "cell_type": "code",
   "execution_count": null,
   "metadata": {},
   "outputs": [],
   "source": []
  }
 ],
 "metadata": {
  "kernelspec": {
   "display_name": "Python 3",
   "language": "python",
   "name": "python3"
  },
  "language_info": {
   "codemirror_mode": {
    "name": "ipython",
    "version": 3
   },
   "file_extension": ".py",
   "mimetype": "text/x-python",
   "name": "python",
   "nbconvert_exporter": "python",
   "pygments_lexer": "ipython3",
   "version": "3.6.8"
  }
 },
 "nbformat": 4,
 "nbformat_minor": 2
}
